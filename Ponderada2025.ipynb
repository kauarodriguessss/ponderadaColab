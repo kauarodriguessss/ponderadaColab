{
  "nbformat": 4,
  "nbformat_minor": 0,
  "metadata": {
    "colab": {
      "provenance": [],
      "authorship_tag": "ABX9TyPCIYis1Kz/StAIYVod6fZf",
      "include_colab_link": true
    },
    "kernelspec": {
      "name": "python3",
      "display_name": "Python 3"
    },
    "language_info": {
      "name": "python"
    }
  },
  "cells": [
    {
      "cell_type": "markdown",
      "metadata": {
        "id": "view-in-github",
        "colab_type": "text"
      },
      "source": [
        "<a href=\"https://colab.research.google.com/github/kauarodriguessss/ponderadaColab/blob/main/Ponderada2025.ipynb\" target=\"_parent\"><img src=\"https://colab.research.google.com/assets/colab-badge.svg\" alt=\"Open In Colab\"/></a>"
      ]
    },
    {
      "cell_type": "markdown",
      "source": [
        "# **Explorador de Labirintos: Pilhas e Filas**\n",
        "Atividade ponderada - Semana 7\n",
        "*   Nome: Kauã Rodrigues dos Santos\n",
        "*   Curso: Engenharia de Software\n",
        "*   Turma: 13\n",
        "\n",
        "\n",
        "---\n",
        "\n",
        "\n",
        "Nesta atividade, desenvolvemos um **robô explorador** que atravessa um labirinto, coletando chaves e abrindo portas até encontrar a saída.\n",
        "\n",
        "O objetivo é utilizar **estruturas de dados essenciais**, como:\n",
        "\n",
        "- **Pilha (LIFO)** para armazenar os movimentos do robô.\n",
        "- **Fila (FIFO)** para gerenciar as chaves e abrir portas na ordem correta.\n"
      ],
      "metadata": {
        "id": "2GMurQDeXQ6a"
      }
    },
    {
      "cell_type": "markdown",
      "source": [
        "## **Importação de Bibliotecas**\n",
        "As bibliotecas utilizadas neste projeto são:\n",
        "\n",
        "*   collections: Para implementar a fila de chaves.\n",
        "*   matplotlib.pyplot: Para visualizar o labirinto e a movimentação do robô.\n",
        "*   numpy: Para facilitar a manipulação de matrizes de cores.\n",
        "*   time: Para adicionar pausas e simular a movimentação do robô.\n",
        "\n",
        "🔽 Agora, vou importar as bibliotecas no bloco abaixo:"
      ],
      "metadata": {
        "id": "wamiAMCMYhz_"
      }
    },
    {
      "cell_type": "code",
      "execution_count": null,
      "metadata": {
        "id": "IrmcFW6lFOUF"
      },
      "outputs": [],
      "source": [
        "import collections\n",
        "import matplotlib.pyplot as plt\n",
        "import numpy as np\n",
        "import time"
      ]
    },
    {
      "cell_type": "markdown",
      "source": [
        "## **Definição dos Elementos do Labirinto**\n",
        "\n",
        "Cada elemento do labirinto é representado por um caractere:\n",
        "\n",
        "- `X` → Parede (o robô não pode atravessar).\n",
        "- `.` → Caminho livre.\n",
        "- `K` → Chave (o robô precisa coletar para abrir portas).\n",
        "- `D` → Porta trancada (só abre se o robô tiver uma chave).\n",
        "- `S` → Saída (objetivo final do robô).\n",
        "- `R` → Posição inicial do robô.\n",
        "\n",
        "🔽 No próximo bloco, defini esses elementos:"
      ],
      "metadata": {
        "id": "tk9wqbsMZF-e"
      }
    },
    {
      "cell_type": "code",
      "source": [
        "PAREDE = 'X'\n",
        "CAMINHO = '.'\n",
        "CHAVE = 'K'\n",
        "PORTA = 'D'\n",
        "SAIDA = 'S'\n",
        "ROBO = 'R'"
      ],
      "metadata": {
        "id": "MIDYugHmQo0j"
      },
      "execution_count": null,
      "outputs": []
    },
    {
      "cell_type": "markdown",
      "source": [
        "## **Estrutura do Labirinto**\n",
        "\n",
        "O labirinto é representado como uma **matriz (lista de listas)**, onde cada célula contém um dos elementos definidos acima.\n",
        "\n",
        "🔽 Criei um exemplo de labirinto no bloco abaixo:"
      ],
      "metadata": {
        "id": "ui6VIQFcZGea"
      }
    },
    {
      "cell_type": "code",
      "source": [
        "# Bloco 3: Representação do labirinto\n",
        "labirinto = [\n",
        "    ['X', 'X', 'X', 'X', 'X', 'X', 'X'],\n",
        "    ['X', 'R', '.', 'K', 'D', '.', 'X'],\n",
        "    ['X', 'X', 'X', '.', 'X', '.', 'X'],\n",
        "    ['X', '.', '.', '.', 'X', 'S', 'X'],\n",
        "    ['X', 'X', 'X', 'X', 'X', 'X', 'X']\n",
        "]"
      ],
      "metadata": {
        "id": "SaYANgd7Qsk7"
      },
      "execution_count": null,
      "outputs": []
    },
    {
      "cell_type": "markdown",
      "source": [
        "## **Movimentação do Robô**\n",
        "\n",
        "O robô pode se mover nas seguintes direções:\n",
        "\n",
        "- ➡️ **Direita** `(0,1)`  \n",
        "- ⬇️ **Baixo** `(1,0)`  \n",
        "- ⬅️ **Esquerda** `(0,-1)`  \n",
        "- ⬆️ **Cima** `(-1,0)`  \n",
        "\n",
        "Esses movimentos serão usados para explorar o labirinto.\n",
        "\n",
        "🔽 Defini abaixo:"
      ],
      "metadata": {
        "id": "M2xns_Y7ZG4b"
      }
    },
    {
      "cell_type": "code",
      "source": [
        "movimentos = [(0, 1), (1, 0), (0, -1), (-1, 0)]  # Direita, Baixo, Esquerda, Cima"
      ],
      "metadata": {
        "id": "s96ngoOjQtPJ"
      },
      "execution_count": null,
      "outputs": []
    },
    {
      "cell_type": "markdown",
      "source": [
        "## **Encontrando a Posição Inicial do Robô**\n",
        "\n",
        "Para que o robô saiba onde começar, implementamos uma função que percorre o labirinto e identifica a posição do `R`.\n",
        "\n",
        "🔽 No próximo bloco, implementei essa função:"
      ],
      "metadata": {
        "id": "v_1m93y5aY45"
      }
    },
    {
      "cell_type": "code",
      "source": [
        "def encontrar_posicao(labirinto, elemento):\n",
        "    for i, linha in enumerate(labirinto):\n",
        "        for j, valor in enumerate(linha):\n",
        "            if valor == elemento:\n",
        "                return (i, j)\n",
        "    return None"
      ],
      "metadata": {
        "id": "lcI4FDC-QtJ_"
      },
      "execution_count": null,
      "outputs": []
    },
    {
      "cell_type": "markdown",
      "source": [
        "## **Visualização do Labirinto**\n",
        "\n",
        "Para facilitar a compreensão, usamos a biblioteca `matplotlib` para exibir o labirinto de forma gráfica.\n",
        "\n",
        "Cada elemento tem uma cor específica:\n",
        "\n",
        "- **Paredes (X)** → Preto  \n",
        "- **Saída (S)** → Verde  \n",
        "- **Chaves (K)** → Laranja  \n",
        "- **Portas (D)** → Azul  \n",
        "- **Robô (R)** → Roxo  \n",
        "\n",
        "🔽 No próximo bloco, implementei essa visualização:"
      ],
      "metadata": {
        "id": "AjAZSPuTaZoS"
      }
    },
    {
      "cell_type": "code",
      "source": [
        "# Bloco 6: Função para visualizar o labirinto\n",
        "def exibir_labirinto(labirinto):\n",
        "    plt.clf()\n",
        "\n",
        "    # Define cores específicas para cada elemento\n",
        "    color_map = {\n",
        "        'X': [0, 0, 0],   # Preto para paredes\n",
        "        '.': [1, 1, 1],   # Branco para caminhos livres\n",
        "        'R': [0.5, 0, 0.5], # Roxo para o robô\n",
        "        'K': [1, 0.6, 0],   # Laranja para chaves\n",
        "        'D': [0, 0, 1],   # Azul para portas\n",
        "        'S': [0, 1, 0]    # Verde para a saída\n",
        "    }\n",
        "\n",
        "    # Criar a matriz de cores com base no labirinto\n",
        "    img = np.array([[color_map[cell] if cell in color_map else [1, 1, 1] for cell in row] for row in labirinto])\n",
        "\n",
        "    plt.imshow(img)\n",
        "    plt.xticks([])\n",
        "    plt.yticks([])\n",
        "    plt.show()"
      ],
      "metadata": {
        "id": "7UhOVfZ6QtH6"
      },
      "execution_count": null,
      "outputs": []
    },
    {
      "cell_type": "markdown",
      "source": [
        "## **Algoritmo de Exploração do Robô**\n",
        "\n",
        "O robô segue as seguintes regras:\n",
        "\n",
        "✅ Move-se para a **próxima posição disponível**.  \n",
        "✅ **Coleta chaves** ao encontrá-las.  \n",
        "✅ **Usa chaves na ordem correta** ao encontrar portas.  \n",
        "✅ **Não faz backtracking (não volta para trás)**.  \n",
        "✅ **Para** se não conseguir avançar.  \n",
        "\n",
        "🔽 No próximo bloco, é toda a lógica por trás da implementação do algoritmo de exploração:\n"
      ],
      "metadata": {
        "id": "KjKcSHfsaaQq"
      }
    },
    {
      "cell_type": "code",
      "source": [
        "# Bloco 7: Implementação da exploração do labirinto\n",
        "def explorar_labirinto(labirinto):\n",
        "    robo_pos = encontrar_posicao(labirinto, ROBO)\n",
        "    fila_chaves = collections.deque()  # Fila para armazenar chaves (FIFO)\n",
        "    visitados = set()\n",
        "    x, y = robo_pos\n",
        "\n",
        "    while labirinto[x][y] != SAIDA:\n",
        "        print(f\"Posição atual: ({x}, {y})\")\n",
        "        visitados.add((x, y))\n",
        "        melhor_movimento = None\n",
        "\n",
        "        for dx, dy in movimentos:\n",
        "            nx, ny = x + dx, y + dy\n",
        "            if (0 <= nx < len(labirinto) and 0 <= ny < len(labirinto[0]) and\n",
        "                (nx, ny) not in visitados and labirinto[nx][ny] != PAREDE):\n",
        "                melhor_movimento = (nx, ny)\n",
        "                break\n",
        "\n",
        "        if melhor_movimento:\n",
        "            labirinto[x][y] = CAMINHO\n",
        "            x, y = melhor_movimento\n",
        "\n",
        "            if labirinto[x][y] == CHAVE:\n",
        "                print(\"Chave encontrada! Armazenando na fila...\")\n",
        "                fila_chaves.append('chave')\n",
        "                labirinto[x][y] = CAMINHO\n",
        "\n",
        "            elif labirinto[x][y] == PORTA:\n",
        "                if fila_chaves:\n",
        "                    print(\"Porta encontrada! Usando chave...\")\n",
        "                    fila_chaves.popleft()\n",
        "                    labirinto[x][y] = CAMINHO\n",
        "                else:\n",
        "                    print(\"Porta trancada! Robô parou!\")\n",
        "                    return False\n",
        "\n",
        "            labirinto[x][y] = ROBO\n",
        "        else:\n",
        "            print(\"Robô não pode mais se mover. Parando.\")\n",
        "            return False\n",
        "\n",
        "        time.sleep(0.5)\n",
        "        exibir_labirinto(labirinto)\n",
        "\n",
        "    print(\"Robô chegou à saída!\")\n",
        "    return True"
      ],
      "metadata": {
        "id": "0_2Qu7qEQtFS"
      },
      "execution_count": null,
      "outputs": []
    },
    {
      "cell_type": "markdown",
      "source": [
        "## **Executando a Simulação**\n",
        "\n",
        "Agora que tudo está pronto, iniciamos a simulação. O robô começará na posição `R` e tentará alcançar a saída `S`, coletando chaves `K` e abrindo portas `D` pelo caminho.\n",
        "\n",
        "🔽 Execute o bloco abaixo para iniciar a exploração:"
      ],
      "metadata": {
        "id": "GUGEtFvTackt"
      }
    },
    {
      "cell_type": "code",
      "source": [
        "#Bloco 8: Executando a exploração do labirinto\n",
        "exibir_labirinto(labirinto)\n",
        "explorar_labirinto(labirinto)"
      ],
      "metadata": {
        "colab": {
          "base_uri": "https://localhost:8080/",
          "height": 1000
        },
        "id": "UEf6ElL2UW9P",
        "outputId": "823ca0ec-46b7-453d-ad46-1a83603e4bce"
      },
      "execution_count": null,
      "outputs": [
        {
          "output_type": "display_data",
          "data": {
            "text/plain": [
              "<Figure size 640x480 with 1 Axes>"
            ],
            "image/png": "[encoded data removed]"
          },
          "metadata": {}
        },
        {
          "output_type": "stream",
          "name": "stdout",
          "text": [
            "Posição atual: (1, 1)\n"
          ]
        },
        {
          "output_type": "display_data",
          "data": {
            "text/plain": [
              "<Figure size 640x480 with 1 Axes>"
            ],
            "image/png": "[encoded data removed]"
          },
          "metadata": {}
        },
        {
          "output_type": "stream",
          "name": "stdout",
          "text": [
            "Posição atual: (1, 2)\n",
            "Chave encontrada! Armazenando na fila...\n"
          ]
        },
        {
          "output_type": "display_data",
          "data": {
            "text/plain": [
              "<Figure size 640x480 with 1 Axes>"
            ],
            "image/png": "[encoded data removed]"
          },
          "metadata": {}
        },
        {
          "output_type": "stream",
          "name": "stdout",
          "text": [
            "Posição atual: (1, 3)\n",
            "Porta encontrada! Usando chave...\n"
          ]
        },
        {
          "output_type": "display_data",
          "data": {
            "text/plain": [
              "<Figure size 640x480 with 1 Axes>"
            ],
            "image/png": "[encoded data removed]"
          },
          "metadata": {}
        },
        {
          "output_type": "stream",
          "name": "stdout",
          "text": [
            "Posição atual: (1, 4)\n"
          ]
        },
        {
          "output_type": "display_data",
          "data": {
            "text/plain": [
              "<Figure size 640x480 with 1 Axes>"
            ],
            "image/png": "[encoded data removed]"
          },
          "metadata": {}
        },
        {
          "output_type": "stream",
          "name": "stdout",
          "text": [
            "Posição atual: (1, 5)\n"
          ]
        },
        {
          "output_type": "display_data",
          "data": {
            "text/plain": [
              "<Figure size 640x480 with 1 Axes>"
            ],
            "image/png": "[encoded data removed]"
          },
          "metadata": {}
        },
        {
          "output_type": "stream",
          "name": "stdout",
          "text": [
            "Posição atual: (2, 5)\n"
          ]
        },
        {
          "output_type": "display_data",
          "data": {
            "text/plain": [
              "<Figure size 640x480 with 1 Axes>"
            ],
            "image/png": "[encoded data removed]"
          },
          "metadata": {}
        },
        {
          "output_type": "stream",
          "name": "stdout",
          "text": [
            "Posição atual: (3, 5)\n",
            "Robô não pode mais se mover. Parando.\n"
          ]
        },
        {
          "output_type": "execute_result",
          "data": {
            "text/plain": [
              "False"
            ]
          },
          "metadata": {},
          "execution_count": 9
        }
      ]
    },
    {
      "cell_type": "markdown",
      "source": [
        "## **Conclusão**\n",
        "\n",
        "Com essa atividade, consegui implementar um robô explorador de labirinto utilizando estruturas de dados fundamentais:\n",
        "\n",
        "- **Pilha (LIFO)**: Inicialmente usada para backtracking, mas removida para tornar a navegação mais simples.\n",
        "- **Fila (FIFO)**: Garante que as chaves sejam usadas na ordem correta.\n",
        "- **Controle de fluxo eficiente**: O robô navega pelo labirinto e para ao encontrar bloqueios.\n",
        "\n",
        "Além disso, apliquei técnicas de visualização de dados para tornar o processo mais interativo e intuitivo."
      ],
      "metadata": {
        "id": "p0GXgb1vaawu"
      }
    }
  ]
}